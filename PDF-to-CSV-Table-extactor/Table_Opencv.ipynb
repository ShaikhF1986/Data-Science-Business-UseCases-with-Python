{
 "cells": [
  {
   "cell_type": "code",
   "execution_count": 1,
   "metadata": {},
   "outputs": [],
   "source": [
    "import pandas as pd"
   ]
  },
  {
   "cell_type": "code",
   "execution_count": 6,
   "metadata": {},
   "outputs": [],
   "source": [
    "data = pd.read_csv(\"file_table-converted_2.pdf.csv\")"
   ]
  },
  {
   "cell_type": "code",
   "execution_count": 8,
   "metadata": {},
   "outputs": [
    {
     "data": {
      "text/html": [
       "<div>\n",
       "<style scoped>\n",
       "    .dataframe tbody tr th:only-of-type {\n",
       "        vertical-align: middle;\n",
       "    }\n",
       "\n",
       "    .dataframe tbody tr th {\n",
       "        vertical-align: top;\n",
       "    }\n",
       "\n",
       "    .dataframe thead th {\n",
       "        text-align: right;\n",
       "    }\n",
       "</style>\n",
       "<table border=\"1\" class=\"dataframe\">\n",
       "  <thead>\n",
       "    <tr style=\"text-align: right;\">\n",
       "      <th></th>\n",
       "      <th>Chent 1D</th>\n",
       "      <th>Citnt Firsa Marne.</th>\n",
       "      <th>Chent Last Marne:</th>\n",
       "      <th>Chant Cty</th>\n",
       "    </tr>\n",
       "  </thead>\n",
       "  <tbody>\n",
       "    <tr>\n",
       "      <th>0</th>\n",
       "      <td>5001</td>\n",
       "      <td>Stewart</td>\n",
       "      <td>Jameson</td>\n",
       "      <td>Seatie</td>\n",
       "    </tr>\n",
       "    <tr>\n",
       "      <th>1</th>\n",
       "      <td>9007</td>\n",
       "      <td>Shanhon</td>\n",
       "      <td>Melain</td>\n",
       "      <td>Poulsbo</td>\n",
       "    </tr>\n",
       "    <tr>\n",
       "      <th>2</th>\n",
       "      <td>9003</td>\n",
       "      <td>Fsteta</td>\n",
       "      <td>Pane</td>\n",
       "      <td>Tacoma</td>\n",
       "    </tr>\n",
       "    <tr>\n",
       "      <th>3</th>\n",
       "      <td>9004</td>\n",
       "      <td>Tirrwttty</td>\n",
       "      <td>Enon</td>\n",
       "      <td>Seat</td>\n",
       "    </tr>\n",
       "    <tr>\n",
       "      <th>4</th>\n",
       "      <td>9005</td>\n",
       "      <td>Maran</td>\n",
       "      <td>Russe</td>\n",
       "      <td>Belirgham</td>\n",
       "    </tr>\n",
       "    <tr>\n",
       "      <th>5</th>\n",
       "      <td>9006</td>\n",
       "      <td>Kenda</td>\n",
       "      <td>Bonmeisen</td>\n",
       "      <td>Tacoma</td>\n",
       "    </tr>\n",
       "  </tbody>\n",
       "</table>\n",
       "</div>"
      ],
      "text/plain": [
       "   Chent 1D Citnt Firsa Marne. Chent Last Marne:  Chant Cty\n",
       "0      5001            Stewart           Jameson     Seatie\n",
       "1      9007            Shanhon            Melain    Poulsbo\n",
       "2      9003             Fsteta              Pane     Tacoma\n",
       "3      9004          Tirrwttty              Enon       Seat\n",
       "4      9005              Maran             Russe  Belirgham\n",
       "5      9006              Kenda         Bonmeisen     Tacoma"
      ]
     },
     "execution_count": 8,
     "metadata": {},
     "output_type": "execute_result"
    }
   ],
   "source": [
    "data"
   ]
  },
  {
   "cell_type": "code",
   "execution_count": null,
   "metadata": {},
   "outputs": [],
   "source": []
  }
 ],
 "metadata": {
  "kernelspec": {
   "display_name": "Python 3",
   "language": "python",
   "name": "python3"
  },
  "language_info": {
   "codemirror_mode": {
    "name": "ipython",
    "version": 3
   },
   "file_extension": ".py",
   "mimetype": "text/x-python",
   "name": "python",
   "nbconvert_exporter": "python",
   "pygments_lexer": "ipython3",
   "version": "3.7.3"
  }
 },
 "nbformat": 4,
 "nbformat_minor": 2
}
